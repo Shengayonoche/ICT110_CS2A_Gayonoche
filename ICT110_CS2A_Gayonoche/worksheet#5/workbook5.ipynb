{
  "nbformat": 4,
  "nbformat_minor": 0,
  "metadata": {
    "colab": {
      "provenance": []
    },
    "kernelspec": {
      "name": "python3",
      "display_name": "Python 3"
    },
    "language_info": {
      "name": "python"
    }
  },
  "cells": [
    {
      "cell_type": "code",
      "execution_count": 3,
      "metadata": {
        "colab": {
          "base_uri": "https://localhost:8080/"
        },
        "id": "hdhUtbZwurHU",
        "outputId": "f44f7b10-2ce8-45e5-b06d-accedfb268c6"
      },
      "outputs": [
        {
          "output_type": "stream",
          "name": "stdout",
          "text": [
            "A. \n",
            "4  [[  1   2   3   4   5   6   7   8   9  10  11  12  13  14  15  16  17  18\n",
            "   19  20  21  22  23  24  25  26  27  28  29  30  31  32  33  34  35  36\n",
            "   37  38  39  40  41  42  43  44  45  46  47  48  49  50  51  52  53  54\n",
            "   55  56  57  58  59  60  61  62  63  64  65  66  67  68  69  70  71  72\n",
            "   73  74  75  76  77  78  79  80  81  82  83  84  85  86  87  88  89  90\n",
            "   91  92  93  94  95  96  97  98  99 100]]\n",
            "\n",
            "1. Shape of A: (1, 100)\n",
            "\n",
            "2. Maximum value in A: 100\n",
            "\n",
            "3. Maximum value in A: 100\n"
          ]
        }
      ],
      "source": [
        "#Exercise A\n",
        "\n",
        "\n",
        "import numpy as np\n",
        "\n",
        "\n",
        "nested_list_A = [[i for i in range(1, 101)]]\n",
        "A = np.array(nested_list_A)\n",
        "print (\"A. \\n4 \",A) #This displays the list of values from 1 to 100 in a nested Python List\n",
        "\n",
        "print(\"\\n1. Shape of A:\", A.shape) #The .shape gives the shape of the array A, which represents the number of rows and columns in the array.\n",
        "print(\"\\n2. Maximum value in A:\", A.max())  # The .max gives the maximum value  in the array A.\n",
        "print(\"\\n3. Maximum value in A:\", np.max(A))  #The np.max() function calculates the maximum value present in the array A assing an ndarray\n",
        "\n"
      ]
    },
    {
      "cell_type": "code",
      "source": [
        "#Exercise B\n",
        "import numpy as np\n",
        "\n",
        "ones = np.ones((5, 5), dtype=np.int32)  #This creates a 5x5 integer-array filled with ones.The dtype=np.int32 makes the array contains integer values.\n",
        "print(\"B.\\n\", ones) #This displays the 5x5 integer filled with ones\n",
        "\n",
        "print(\"Shape of ones_array:\", ones.shape) #  The .shape: Returns the shape of the array\n",
        "print(\"Size of ones_array:\", ones.size) #  The .size: Returns the total number of elements in the array\n",
        "print(\"Number of dimensions of ones_array:\", ones.ndim) #  The .ndim: Returns the number of dimensions of the array\n",
        "\n",
        "\n"
      ],
      "metadata": {
        "colab": {
          "base_uri": "https://localhost:8080/"
        },
        "id": "BUVQ2HQHuv6P",
        "outputId": "e41616b1-df13-4458-cfbc-6df71f4c64d6"
      },
      "execution_count": 4,
      "outputs": [
        {
          "output_type": "stream",
          "name": "stdout",
          "text": [
            "B.\n",
            " [[1 1 1 1 1]\n",
            " [1 1 1 1 1]\n",
            " [1 1 1 1 1]\n",
            " [1 1 1 1 1]\n",
            " [1 1 1 1 1]]\n",
            "Shape of ones_array: (5, 5)\n",
            "Size of ones_array: 25\n",
            "Number of dimensions of ones_array: 2\n"
          ]
        }
      ]
    },
    {
      "cell_type": "code",
      "source": [
        "#Exercise C\n",
        "import numpy as np\n",
        "\n",
        "original_array = np.arange(-5, 6) # Creating an array of values from -5 to +5\n",
        "print(\"C.\\nOriginal array: \",original_array) #Displayig the original array\n",
        "\n",
        "result_array = original_array * 2 # Multiply each value by 2\n",
        "print(\"Multiplied array: \", result_array) # Displaying the resulting of multiplied value\n"
      ],
      "metadata": {
        "colab": {
          "base_uri": "https://localhost:8080/"
        },
        "id": "IkWSkmkXvPtw",
        "outputId": "70bd7032-1bbb-48eb-b3a3-349e8474be33"
      },
      "execution_count": 14,
      "outputs": [
        {
          "output_type": "stream",
          "name": "stdout",
          "text": [
            "C.\n",
            "Original array:  [-5 -4 -3 -2 -1  0  1  2  3  4  5]\n",
            "Multiplied array:  [-10  -8  -6  -4  -2   0   2   4   6   8  10]\n"
          ]
        }
      ]
    },
    {
      "cell_type": "code",
      "source": [
        "#Exercise A\n",
        "import numpy as np\n",
        "\n",
        "array = np.arange(1, 61, 2) #This creates an array with 30 values within the range of numbers from 1 to 100, with an increment of 2\n",
        "print(\"\\n1.\\n\",array) #This prints the 30 values\n",
        "\n",
        "result = array * 3 # Multiplying result by 3\n",
        "\n",
        "print(\"\\n2.\\n Resulting array after multiplying each value by 3:\", result_array)\n"
      ],
      "metadata": {
        "colab": {
          "base_uri": "https://localhost:8080/"
        },
        "id": "dLVjm_F-vhmO",
        "outputId": "3b0c4b19-54be-4b8e-e6e6-4ac8c0420efe"
      },
      "execution_count": 20,
      "outputs": [
        {
          "output_type": "stream",
          "name": "stdout",
          "text": [
            "\n",
            "1.\n",
            " [ 1  3  5  7  9 11 13 15 17 19 21 23 25 27 29 31 33 35 37 39 41 43 45 47\n",
            " 49 51 53 55 57 59]\n",
            "\n",
            "2.\n",
            " Resulting array after multiplying each value by 3: [  3   9  15  21  27  33  39  45  51  57  63  69  75  81  87  93  99 105\n",
            " 111 117 123 129 135 141 147 153 159 165 171 177]\n"
          ]
        }
      ]
    },
    {
      "cell_type": "code",
      "source": [
        "# Exercise A\n",
        "import numpy as np\n",
        "\n",
        "# Create a 4D array of random integers in the range [0, 12]\n",
        "array = np.random.randint(0, 13, size=(3, 4, 5, 6))\n",
        "print(\"A.\\nRandom Array:\\n\", array)\n",
        "\n",
        "# Get the dimensions, shape, and size\n",
        "dimensions = array.ndim\n",
        "shape = array.shape\n",
        "size = array.size\n",
        "print(\"\\nDimensions:\", dimensions)\n",
        "print(\"Shape:\", shape)\n",
        "print(\"Size:\", size)\n",
        "\n",
        "\n"
      ],
      "metadata": {
        "colab": {
          "base_uri": "https://localhost:8080/"
        },
        "id": "5qQd4R2RwreQ",
        "outputId": "80eb63e4-9299-47e2-d0de-32e80a5720a3"
      },
      "execution_count": 23,
      "outputs": [
        {
          "output_type": "stream",
          "name": "stdout",
          "text": [
            "A.\n",
            "Random Array:\n",
            " [[[[ 9  0  3  4  2 12]\n",
            "   [12  6  3  2  4  4]\n",
            "   [11  2  5  8 12  7]\n",
            "   [ 2  8  0  9  4 11]\n",
            "   [12  0  6  9  8  1]]\n",
            "\n",
            "  [[ 9 12  5  2  6  1]\n",
            "   [ 2  5 12  9  2  3]\n",
            "   [12  3  5  0 10  4]\n",
            "   [10 11  4  6  3  0]\n",
            "   [ 1  4  7  0  3 10]]\n",
            "\n",
            "  [[ 7  6  5  9 10  1]\n",
            "   [ 2  3 11 10  6  0]\n",
            "   [ 4 12 10 12  0  4]\n",
            "   [ 2  7  0 12  8 11]\n",
            "   [ 0  5  2  2  7 11]]\n",
            "\n",
            "  [[ 6  7  1  6 12  9]\n",
            "   [ 7  8 10 12  5 12]\n",
            "   [11  9  3  5  9  6]\n",
            "   [11  9  7  3  3  1]\n",
            "   [ 2 10  2 12 10  3]]]\n",
            "\n",
            "\n",
            " [[[ 5  5  7  9  2  2]\n",
            "   [12  4  1 11  7  3]\n",
            "   [ 5 10 12  9 10  7]\n",
            "   [ 2  6  6  2  5  5]\n",
            "   [ 4 11  4 12 12 10]]\n",
            "\n",
            "  [[10  3  8  5  7 10]\n",
            "   [ 7  8  2  9  8 10]\n",
            "   [ 6  3  6  8 12  3]\n",
            "   [11  6 11  4  0  1]\n",
            "   [ 1  1 10 10 12  4]]\n",
            "\n",
            "  [[11  3  7 12  0  1]\n",
            "   [10 10  0  0  5  2]\n",
            "   [ 3  1 12  3  4  2]\n",
            "   [ 0  8  5  5  9  4]\n",
            "   [ 9  7  0 10 12 11]]\n",
            "\n",
            "  [[ 1  6  2 10  1 10]\n",
            "   [ 2  7  3 10  0 11]\n",
            "   [ 9  4  1  9  5  5]\n",
            "   [ 8  9  7  4  9 10]\n",
            "   [ 2  8  1  9  0  2]]]\n",
            "\n",
            "\n",
            " [[[ 4  8  9  0  0 10]\n",
            "   [ 9  5  6  3  7 10]\n",
            "   [ 6 11 12  2 12  3]\n",
            "   [ 7  6 10  2  6  2]\n",
            "   [12  7  2  3  8  7]]\n",
            "\n",
            "  [[ 7  1 12 12  1  1]\n",
            "   [ 9  5  9 10  5  2]\n",
            "   [ 1  3  2 11  0  1]\n",
            "   [ 4  9  8 12  1 11]\n",
            "   [ 4  1  3  0  0 10]]\n",
            "\n",
            "  [[10  5 11 11  6  3]\n",
            "   [ 9 12  2  6  0  5]\n",
            "   [ 7  3 11  1 10  0]\n",
            "   [ 2  8  0  1  8  8]\n",
            "   [ 1  5  1  8  2  1]]\n",
            "\n",
            "  [[ 2  5  3  8  2  5]\n",
            "   [ 7  0  1  6  9 12]\n",
            "   [11  1  0  9  6 10]\n",
            "   [ 1 11  8  4  5  4]\n",
            "   [ 2  4  8  7 12 10]]]]\n",
            "\n",
            "Dimensions: 4\n",
            "Shape: (3, 4, 5, 6)\n",
            "Size: 360\n"
          ]
        }
      ]
    },
    {
      "cell_type": "code",
      "source": [
        "#Exercise B\n",
        "import numpy as np\n",
        "\n",
        "\n",
        "array = np.random.randint(0, 13, size=(3, 4, 5, 6))\n",
        "max_per_dimension = np.max(array, axis=(0, 1, 2, 3))  #Calculating the maximum number\n",
        "print(\"\\nB. Maximum number for each dimension:\", max_per_dimension)\n",
        "\n",
        "\n"
      ],
      "metadata": {
        "colab": {
          "base_uri": "https://localhost:8080/"
        },
        "id": "39h9JvNJ0my2",
        "outputId": "3f483961-55da-41a8-c331-160e264118e9"
      },
      "execution_count": 28,
      "outputs": [
        {
          "output_type": "stream",
          "name": "stdout",
          "text": [
            "\n",
            "B. Maximum number for each dimension: 12\n"
          ]
        }
      ]
    },
    {
      "cell_type": "code",
      "source": [
        "#Exercise C\n",
        "import numpy as np\n",
        "\n",
        "array = np.random.randint(0, 13, size=(3, 4, 5, 6))\n",
        "\n",
        "multiplied_array = array * 4 #Multiply each array with 4.\n",
        "\n",
        "print(\"C. \\nMultiplied array:\\n\", multiplied_array) # Print the multiplied array\n"
      ],
      "metadata": {
        "colab": {
          "base_uri": "https://localhost:8080/"
        },
        "id": "joz4DRaI1ieO",
        "outputId": "b28d321a-3def-47f7-e906-e012ba0ab719"
      },
      "execution_count": 31,
      "outputs": [
        {
          "output_type": "stream",
          "name": "stdout",
          "text": [
            "C. \n",
            "Multiplied array:\n",
            " [[[[16 24  0 16 40 36]\n",
            "   [40 32 40 20  8 40]\n",
            "   [48 48 40  8 36  8]\n",
            "   [36  4 16 24  0 12]\n",
            "   [20 36 24 44  8  0]]\n",
            "\n",
            "  [[36 16 12  4 24 44]\n",
            "   [ 8 44 12 24  0 20]\n",
            "   [16  4 24 16 12 12]\n",
            "   [20 36  8 36 16 36]\n",
            "   [48 44 44 20 32 16]]\n",
            "\n",
            "  [[ 4 40 28 36 44 36]\n",
            "   [ 0  0 40 32 44 44]\n",
            "   [40 16 28  0 40 44]\n",
            "   [ 0 12  8 24 36 40]\n",
            "   [20  8 48 28 32  0]]\n",
            "\n",
            "  [[20 24 32 48  0 32]\n",
            "   [20 36 32 44 20 24]\n",
            "   [24  8 40  0  8 28]\n",
            "   [ 8 24 28 32  8 28]\n",
            "   [20 40 48  8 16 20]]]\n",
            "\n",
            "\n",
            " [[[24 16 16  4  0 48]\n",
            "   [16  8 36  4 32 44]\n",
            "   [44 48 20 40 20 36]\n",
            "   [48 20  0  4 48  8]\n",
            "   [16  0 44 48 32 44]]\n",
            "\n",
            "  [[40 40 48 24  8 48]\n",
            "   [24 32 44 16  0 44]\n",
            "   [ 0 16 40 44 48  0]\n",
            "   [48  0 44 40 16  4]\n",
            "   [40 12 36  4 32 48]]\n",
            "\n",
            "  [[ 0 32  8  8  4 40]\n",
            "   [12  8 28  4  0  0]\n",
            "   [44 44 20 44 20 12]\n",
            "   [ 8 32  8 16 12 48]\n",
            "   [40 16 28 32 16 40]]\n",
            "\n",
            "  [[36 28  4 40 40 36]\n",
            "   [24 20 44 48 12 40]\n",
            "   [28 20 48 48  0 16]\n",
            "   [12 16  8  8 28 44]\n",
            "   [20 48 28  4 44 12]]]\n",
            "\n",
            "\n",
            " [[[ 4 36 44 36 20 32]\n",
            "   [48 24 20 24 32 36]\n",
            "   [48  0 20 32  8 48]\n",
            "   [12 48  4 24 48  8]\n",
            "   [ 0 48  8  4 40 16]]\n",
            "\n",
            "  [[28  8 20  4 36  0]\n",
            "   [12 16 16 36 20 16]\n",
            "   [ 4  4 24 12  0 44]\n",
            "   [40 48 16 20 24 20]\n",
            "   [44  4 40 20 48 40]]\n",
            "\n",
            "  [[32 20 20 24 44  0]\n",
            "   [16  0 36 12 48  0]\n",
            "   [ 4 16 16 48 32 24]\n",
            "   [ 0  4 24 48  8 12]\n",
            "   [32  0 44 32  0  0]]\n",
            "\n",
            "  [[12 12 40 40 32 28]\n",
            "   [24 12 28 48  4  4]\n",
            "   [28 48  0 32 40 44]\n",
            "   [32 28 20 24 28 28]\n",
            "   [ 0 28 36 48 44  8]]]]\n"
          ]
        }
      ]
    }
  ]
}