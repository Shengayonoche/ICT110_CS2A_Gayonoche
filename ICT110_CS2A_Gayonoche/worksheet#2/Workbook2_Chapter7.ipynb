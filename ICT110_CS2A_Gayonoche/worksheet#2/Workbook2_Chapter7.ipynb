{
  "cells": [
    {
      "cell_type": "code",
      "execution_count": null,
      "metadata": {
        "id": "9bXMhyeuppMS"
      },
      "outputs": [],
      "source": [
        "##~~~~~~~~~~~~~~~~~~~~~~~~~~~~~~~~~~~~~~~~~~~~~~~~~~~~~~~~~~~~~~~~~~~~~~~~~Chapter 7"
      ]
    },
    {
      "cell_type": "code",
      "execution_count": 1,
      "metadata": {
        "colab": {
          "base_uri": "https://localhost:8080/"
        },
        "id": "z2Geq7RLplU6",
        "outputId": "2e8acb69-b66c-47cb-b96f-241d800f02ec"
      },
      "outputs": [
        {
          "name": "stdout",
          "output_type": "stream",
          "text": [
            "Enter the name of the file: ex.txt\n",
            "SHENAH\n",
            "GAYONOCHE\n",
            "BACHELOR OF SCIENCE IN COMPUTER SCIENCE\n",
            "ILOILO SCIENCE AND TECHNOLOGY UNIVERSITY"
          ]
        }
      ],
      "source": [
        "# Exercise 1\n",
        "file_name = input(\"Enter the name of the file: \")\n",
        "try:\n",
        "    with open(file_name, 'r') as file:\n",
        "        # Read each line and print it in upper case\n",
        "        for line in file:\n",
        "            print(line.upper(), end='')\n",
        "except FileNotFoundError:\n",
        "    print(\"File not found.\")\n",
        "except Exception as e:\n",
        "    print(\"An error occurred:\", e)"
      ]
    },
    {
      "cell_type": "code",
      "execution_count": null,
      "metadata": {
        "id": "2Ui7qJQLpvkl"
      },
      "outputs": [],
      "source": [
        "# Exercise 2\n",
        "file_name = input(\"Enter the file name: \")\n",
        "\n",
        "try:\n",
        "    total_confidence = 0\n",
        "    count = 0\n",
        "\n",
        "    # Open the file\n",
        "    with open(file_name, 'r') as file:\n",
        "        # Read through each line in the file\n",
        "        for line in file:\n",
        "            # Check if the line starts with 'X-DSPAM-Confidence:'\n",
        "            if line.startswith('X-DSPAM-Confidence:'):\n",
        "                # Extract the confidence value\n",
        "                confidence_value = float(line.split(':')[1].strip())\n",
        "                # Add the confidence value to the total\n",
        "                total_confidence += confidence_value\n",
        "                # Increment the count of lines\n",
        "                count += 1\n",
        "\n",
        "    if count > 0:\n",
        "        # Calculate the average spam confidence\n",
        "        average_confidence = total_confidence / count\n",
        "        # Print the average spam confidence\n",
        "        print(\"Average spam confidence:\", average_confidence)\n",
        "    else:\n",
        "        print(\"No lines starting with 'X-DSPAM-Confidence:' found in the file.\")\n",
        "\n",
        "except FileNotFoundError:\n",
        "    print(\"File not found.\")\n",
        "except Exception as e:\n",
        "    print(\"An error occurred:\", e)\n"
      ]
    },
    {
      "cell_type": "code",
      "execution_count": null,
      "metadata": {
        "id": "VICPMSf8p0Ms"
      },
      "outputs": [],
      "source": [
        "#Challenge\n",
        "file_name = input(\"Enter the file name: \")\n",
        "\n",
        "# Initialize variables to count lines, total spam confidence, and average spam confidence\n",
        "count = 0\n",
        "total_confidence = 0\n",
        "\n",
        "try:\n",
        "    # Open the file\n",
        "    with open(file_name, 'r') as file:\n",
        "        # Read through each line in the file\n",
        "        for line in file:\n",
        "            # Check if the line starts with \"X-DSPAM-Confidence:\"\n",
        "            if line.startswith(\"X-DSPAM-Confidence:\"):\n",
        "                # Split the line to extract the spam confidence value\n",
        "                confidence_value = float(line.split(\":\")[1])  # Extract the floating-point number\n",
        "                # Increment the count\n",
        "                count += 1\n",
        "                # Add the confidence value to the total\n",
        "                total_confidence += confidence_value\n",
        "\n",
        "    # Check if any lines with \"X-DSPAM-Confidence:\" were found\n",
        "    if count > 0:\n",
        "        # Calculate the average spam confidence\n",
        "        average_confidence = total_confidence / count\n",
        "        # Print the average spam confidence\n",
        "        print(\"Average spam confidence:\", average_confidence)\n",
        "    else:\n",
        "        print(\"No lines starting with 'X-DSPAM-Confidence:' found in the file.\")\n",
        "\n",
        "except FileNotFoundError:\n",
        "    print(\"File not found:\", file_name)\n",
        "except Exception as e:\n",
        "    print(\"An error occurred:\", e)\n"
      ]
    }
  ],
  "metadata": {
    "colab": {
      "provenance": []
    },
    "kernelspec": {
      "display_name": "Python 3",
      "name": "python3"
    },
    "language_info": {
      "name": "python"
    }
  },
  "nbformat": 4,
  "nbformat_minor": 0
}
