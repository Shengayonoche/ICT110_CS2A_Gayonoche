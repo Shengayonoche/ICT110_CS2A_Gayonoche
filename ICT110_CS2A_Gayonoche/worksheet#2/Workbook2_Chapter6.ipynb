{
  "cells": [
    {
      "cell_type": "code",
      "execution_count": null,
      "metadata": {
        "id": "I_j0HqJtpCwl"
      },
      "outputs": [],
      "source": [
        "##~~~~~~~~~~~~~~~~~~~~~~~~~~~~~~~~~~~~~~~~~~~~~~~~~~~~~~~~~~~~~~~~~~~~~~~~~Chapter 6"
      ]
    },
    {
      "cell_type": "code",
      "execution_count": 4,
      "metadata": {
        "colab": {
          "base_uri": "https://localhost:8080/"
        },
        "id": "USviz_ykpWcg",
        "outputId": "86fd07a9-1925-455d-f188-a81453bffdb5"
      },
      "outputs": [
        {
          "name": "stdout",
          "output_type": "stream",
          "text": [
            "n\n",
            "si\n",
            "Busi\n",
            "ness Analytics\n",
            "c\n",
            "ti\n",
            "cs\n",
            "Business Analyti\n"
          ]
        }
      ],
      "source": [
        "#Exercise 1\n",
        "text = 'Business Analytics'\n",
        "\n",
        "print (text[4])\n",
        "print (text[2:4])\n",
        "print (text[:4])\n",
        "print (text[4:])\n",
        "print (text[-2])\n",
        "print (text[-4:-2])\n",
        "print (text[-2:])\n",
        "print (text[:-2])\n",
        "\n",
        "#Output\n",
        "n\n",
        "si\n",
        "Busi\n",
        "ness Analytics\n",
        "c\n",
        "ti\n",
        "cs\n",
        "Business Analyti"
      ]
    },
    {
      "cell_type": "code",
      "execution_count": 1,
      "metadata": {
        "colab": {
          "base_uri": "https://localhost:8080/"
        },
        "id": "6OiFroOlpYek",
        "outputId": "bacb6fae-f5fa-42f8-add0-b764a2f7d94d"
      },
      "outputs": [
        {
          "name": "stdout",
          "output_type": "stream",
          "text": [
            "One \n",
            "Ring\n",
            "all\n",
            "them\n",
            "One Ring to rule them all\n"
          ]
        }
      ],
      "source": [
        "#Exercise 2\n",
        "phrase = 'One Ring to rule them all'\n",
        "\n",
        "print (phrase[0:4])\n",
        "print (phrase[4:8])\n",
        "print (phrase[-3:])\n",
        "print (phrase[-8:-4])\n",
        "print (phrase)\n"
      ]
    },
    {
      "cell_type": "code",
      "execution_count": null,
      "metadata": {
        "colab": {
          "base_uri": "https://localhost:8080/"
        },
        "id": "9mM7Ge2cpcRa",
        "outputId": "2a6a66d0-0c2b-41a9-c67f-3fe14dc4585b"
      },
      "outputs": [
        {
          "name": "stdout",
          "output_type": "stream",
          "text": [
            "Enter full name: shenah gayonoche\n",
            "Shenah Gayonoche\n",
            "Enter full name: bachelor of science in computer science\n",
            "Bachelor Of Science In Computer Science\n"
          ]
        }
      ],
      "source": [
        "# CHALLENGE\n",
        "while True:\n",
        "    name = input('Enter full name: ')\n",
        "    formatted_name = name.strip().title()\n",
        "    print(formatted_name)\n",
        "\n",
        "    if name.lower() == 'exit':\n",
        "        print(\"Exiting...\")\n",
        "        break\n"
      ]
    }
  ],
  "metadata": {
    "colab": {
      "provenance": []
    },
    "kernelspec": {
      "display_name": "Python 3",
      "name": "python3"
    },
    "language_info": {
      "name": "python"
    }
  },
  "nbformat": 4,
  "nbformat_minor": 0
}
