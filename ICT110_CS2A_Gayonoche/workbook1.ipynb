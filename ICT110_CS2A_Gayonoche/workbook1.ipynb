{
  "nbformat": 4,
  "nbformat_minor": 0,
  "metadata": {
    "colab": {
      "provenance": [],
      "toc_visible": true
    },
    "kernelspec": {
      "name": "python3",
      "display_name": "Python 3"
    },
    "language_info": {
      "name": "python"
    }
  },
  "cells": [
    {
      "cell_type": "code",
      "source": [
        "##~~~~~~~~~~~~~~~~~~~~~~~~~~~~~~~~~~~~~~~~~~~~~~~~~~~~~~~~~~~~~~~~~~~~~~~~~~~Chapter 1"
      ],
      "metadata": {
        "id": "WrlYqt5GKTVN"
      },
      "execution_count": null,
      "outputs": []
    },
    {
      "cell_type": "code",
      "execution_count": null,
      "metadata": {
        "colab": {
          "base_uri": "https://localhost:8080/"
        },
        "id": "fGnDBS07ISXh",
        "outputId": "56fd00f3-2467-4972-c30e-08f1abe3ba7d"
      },
      "outputs": [
        {
          "output_type": "stream",
          "name": "stdout",
          "text": [
            "Hello World!\n",
            "Hello World!\n",
            "Hello World!\n",
            "Hello World!\n"
          ]
        }
      ],
      "source": [
        "#Exercise 1\n",
        "##Print ('Hello World!')          #The P in print is in capital (P)\n",
        "#print 'Hello World!')           #There is no open parenthesis (()\n",
        "#print ('Hello World!)           #It lacks another apostrophe  (')\n",
        "#print ('Hello World!'')         #There are two apostrophe     ('')\n",
        "\n",
        "\n",
        "#Fixed\n",
        "print ('Hello World!')\n",
        "print ('Hello World!')\n",
        "print ('Hello World!')\n",
        "print ('Hello World!')"
      ]
    },
    {
      "cell_type": "code",
      "source": [
        "#Exercise 2\n",
        "x=43\n",
        "x= x+1\n",
        "print(x)\n",
        "\n",
        "#44"
      ],
      "metadata": {
        "colab": {
          "base_uri": "https://localhost:8080/"
        },
        "id": "C2sRQRSxWs5x",
        "outputId": "95755523-7741-42da-fff2-3fa2874b2ba6"
      },
      "execution_count": null,
      "outputs": [
        {
          "output_type": "stream",
          "name": "stdout",
          "text": [
            "44\n"
          ]
        }
      ]
    },
    {
      "cell_type": "code",
      "source": [
        "#Exercise 3\n",
        "x = 43\n",
        "x = x + 1\n",
        "print(x)\n",
        "\n",
        "#The error was the 'X',it was in capital letter and variable X is undefined"
      ],
      "metadata": {
        "id": "uqFZLChnJSMo",
        "colab": {
          "base_uri": "https://localhost:8080/"
        },
        "outputId": "cb509737-bed4-4bec-97c2-a5710bcd779e"
      },
      "execution_count": null,
      "outputs": [
        {
          "output_type": "stream",
          "name": "stdout",
          "text": [
            "44\n"
          ]
        }
      ]
    },
    {
      "cell_type": "code",
      "source": [
        "##~~~~~~~~~~~~~~~~~~~~~~~~~~~~~~~~~~~~~~~~~~~~~~~~~~~~~~~~~~~~~~~~~~~~~~~~~Chapter 2"
      ],
      "metadata": {
        "id": "Dy0w9EgkKPum"
      },
      "execution_count": null,
      "outputs": []
    },
    {
      "cell_type": "code",
      "source": [
        "#Exercise 1\n",
        "name =input ('Enter your name: ')\n",
        "print('Hello',name)"
      ],
      "metadata": {
        "id": "p_iIipViKWy8",
        "colab": {
          "base_uri": "https://localhost:8080/"
        },
        "outputId": "684836ff-5995-41ac-d8b7-624e4cf60c6b"
      },
      "execution_count": null,
      "outputs": [
        {
          "output_type": "stream",
          "name": "stdout",
          "text": [
            "Enter your name: Shenah Gayonoche\n",
            "Hello Shenah Gayonoche\n"
          ]
        }
      ]
    },
    {
      "cell_type": "code",
      "source": [
        "#Exercise 2\n",
        "hours=input('Enter hours: ')\n",
        "hrs=float(hours)\n",
        "rate=input('Enter Rate: ')\n",
        "rt=float(rate)\n",
        "total=hrs*rt\n",
        "\n",
        "print ('Pay:', total)"
      ],
      "metadata": {
        "id": "vgyyh0trKdL3",
        "colab": {
          "base_uri": "https://localhost:8080/"
        },
        "outputId": "8c0148c5-e336-4a3e-9da9-2277cb988fc1"
      },
      "execution_count": null,
      "outputs": [
        {
          "output_type": "stream",
          "name": "stdout",
          "text": [
            "Enter hours: 40\n",
            "Enter Rate: 10\n",
            "Pay: 400.0\n"
          ]
        }
      ]
    },
    {
      "cell_type": "code",
      "source": [
        "#Exercise 3\n",
        "width//2:     Value: 8    Type: int\n",
        "width/2.0:    Value: 8.5  Type: float\n",
        "height/3:     Value: 4.0  Type: float\n",
        "1 + 2 * 5:    Value: 11   Type: int"
      ],
      "metadata": {
        "id": "day4b3LYLE7m",
        "colab": {
          "base_uri": "https://localhost:8080/",
          "height": 106
        },
        "outputId": "f3f37de4-feb2-441e-aa42-8f45ec0b4899"
      },
      "execution_count": null,
      "outputs": [
        {
          "output_type": "error",
          "ename": "SyntaxError",
          "evalue": "illegal target for annotation (<ipython-input-5-ab9746117c70>, line 2)",
          "traceback": [
            "\u001b[0;36m  File \u001b[0;32m\"<ipython-input-5-ab9746117c70>\"\u001b[0;36m, line \u001b[0;32m2\u001b[0m\n\u001b[0;31m    width//2:     Value: 8    Type: int\u001b[0m\n\u001b[0m    ^\u001b[0m\n\u001b[0;31mSyntaxError\u001b[0m\u001b[0;31m:\u001b[0m illegal target for annotation\n"
          ]
        }
      ]
    },
    {
      "cell_type": "code",
      "source": [
        "#Exercise 4\n",
        "num=input('Enter a number: ')\n",
        "n=int(num)\n",
        "sqr=n**2\n",
        "print('The square of', num,'is',sqr)"
      ],
      "metadata": {
        "id": "RGZqBB6sLUQq"
      },
      "execution_count": null,
      "outputs": []
    },
    {
      "cell_type": "code",
      "source": [
        "#Challenge\n",
        "\n",
        "print('Convert Celsius to Fahrenheit')\n",
        "inp=input('Enter Temperature (c): ')\n",
        "temp=int(inp)\n",
        "temperature=(temp*1.8)+32\n",
        "print('Temperature in Fahrenheit: ',temperature)"
      ],
      "metadata": {
        "id": "BGtApqWZLYKy"
      },
      "execution_count": null,
      "outputs": []
    },
    {
      "cell_type": "code",
      "source": [
        "##~~~~~~~~~~~~~~~~~~~~~~~~~~~~~~~~~~~~~~~~~~~~~~~~~~~~~~~~~~~~~~~~~~~~~~~~~Chapter 3"
      ],
      "metadata": {
        "id": "MynN_3qbLfwq"
      },
      "execution_count": null,
      "outputs": []
    },
    {
      "cell_type": "code",
      "source": [
        "#Exercise 1\n",
        "if x > 50:\n",
        "    print('Above 50')\n",
        "elif x > 20:\n",
        "    print('Above 20')\n",
        "elif x > 10:\n",
        "    print('Above 10')\n",
        "elif x > 0:\n",
        "    print('Above 0')\n",
        "else:\n",
        "    print('Something else')\n"
      ],
      "metadata": {
        "colab": {
          "base_uri": "https://localhost:8080/"
        },
        "id": "1mSz3ZdCMLNR",
        "outputId": "7996655f-edf3-4d45-d4ec-eb35fd50acf6"
      },
      "execution_count": null,
      "outputs": [
        {
          "output_type": "stream",
          "name": "stdout",
          "text": [
            "Above 0\n"
          ]
        }
      ]
    },
    {
      "cell_type": "code",
      "source": [
        "#Exercise 2\n",
        "hours = float(input(\"Enter Hours: \"))\n",
        "rate = float(input(\"Enter Rate: \"))\n",
        "\n",
        "if hours >= 40:\n",
        "    pay = hours * rate\n",
        "else:\n",
        "    regular_pay = 40 * rate\n",
        "    overtime_hours = hours - 40\n",
        "    overtime_pay = overtime_hours * (rate * 1.5)\n",
        "    pay = regular_pay + overtime_pay\n",
        "\n",
        "print(\"Pay:\", pay)\n"
      ],
      "metadata": {
        "colab": {
          "base_uri": "https://localhost:8080/"
        },
        "id": "jYtXxwqfMoVe",
        "outputId": "5e0bc824-571f-4293-9a59-782e2e98a0f4"
      },
      "execution_count": null,
      "outputs": [
        {
          "output_type": "stream",
          "name": "stdout",
          "text": [
            "Enter Hours: 40\n",
            "Enter Rate: 10\n",
            "Pay: 400.0\n"
          ]
        }
      ]
    },
    {
      "cell_type": "code",
      "source": [
        "#Challenge\n",
        "\n",
        "score = float(input(\"Enter the score between 0 and 100: \"))\n",
        "if score >= 97:\n",
        "    grade = 1.0\n",
        "elif score >= 93:\n",
        "    grade = 1.25\n",
        "elif score >= 89:\n",
        "    grade = 1.5\n",
        "elif score >= 85:\n",
        "    grade = 1.75\n",
        "elif score >= 81:\n",
        "    grade = 2.0\n",
        "elif score >= 77:\n",
        "    grade = 2.25\n",
        "elif score >= 74:\n",
        "    grade = 2.5\n",
        "else:\n",
        "    grade = 3.0\n",
        "print(\"Grade:\", grade)\n"
      ],
      "metadata": {
        "colab": {
          "base_uri": "https://localhost:8080/"
        },
        "id": "2TbB8TBuQboc",
        "outputId": "f94e4e76-3f48-414f-fcb9-2e9cf849c163"
      },
      "execution_count": null,
      "outputs": [
        {
          "output_type": "stream",
          "name": "stdout",
          "text": [
            "Enter the score between 0 and 100: 97\n",
            "Grade: 1.0\n"
          ]
        }
      ]
    },
    {
      "cell_type": "code",
      "source": [
        "##~~~~~~~~~~~~~~~~~~~~~~~~~~~~~~~~~~~~~~~~~~~~~~~~~~~~~~~~~~~~~~~~~~~~~~~~~Chapter 4"
      ],
      "metadata": {
        "id": "0A6DEgyGQsTz"
      },
      "execution_count": null,
      "outputs": []
    },
    {
      "cell_type": "code",
      "source": [
        "#Exercise 1\n",
        "hours = float(input(\"Enter Hours: \"))\n",
        "rate = float(input(\"Enter Rate: \"))\n",
        "\n",
        "if hours >= 40:\n",
        "\n",
        "    regular_pay = 40 * rate\n",
        "    overtime_hours = hours - 40\n",
        "    overtime_pay = overtime_hours * (rate * 1.5)\n",
        "    pay = regular_pay + overtime_pay\n",
        "else:\n",
        "    pay = hours * rate\n",
        "\n",
        "print(\"Pay:\", pay)\n"
      ],
      "metadata": {
        "colab": {
          "base_uri": "https://localhost:8080/"
        },
        "id": "Ic84QXfeRMWL",
        "outputId": "72a5a8cb-c4e3-4546-df4a-9d7affc40df9"
      },
      "execution_count": null,
      "outputs": [
        {
          "output_type": "stream",
          "name": "stdout",
          "text": [
            "Enter Hours: 45\n",
            "Enter Rate: 10\n",
            "Pay: 475.0\n"
          ]
        }
      ]
    },
    {
      "cell_type": "code",
      "source": [
        "#Challenge\n",
        "def computegrade(score):\n",
        "    if score >= 97:\n",
        "        return '1.0'\n",
        "    elif score >= 93:\n",
        "        return '1.25'\n",
        "    elif score >= 89:\n",
        "        return '1.5'\n",
        "    elif score >= 85:\n",
        "        return '1.75'\n",
        "    elif score >= 81:\n",
        "        return '2.0'\n",
        "    elif score >= 77:\n",
        "        return '2.25'\n",
        "    elif score >= 74:\n",
        "        return '2.5'\n",
        "    else:\n",
        "        return '3.0'\n",
        "\n",
        "# Example usage:\n",
        "scr = input(\"Enter the score: \")\n",
        "score =float(scr)\n",
        "grade = computegrade(score)\n",
        "print(\"Grade:\", grade)\n"
      ],
      "metadata": {
        "colab": {
          "base_uri": "https://localhost:8080/"
        },
        "id": "_VRJOtSARpPQ",
        "outputId": "928eb645-6601-4b0e-9ee8-82ff8a4efa01"
      },
      "execution_count": null,
      "outputs": [
        {
          "output_type": "stream",
          "name": "stdout",
          "text": [
            "Enter the score: 70\n",
            "Grade: 3.0\n"
          ]
        }
      ]
    },
    {
      "cell_type": "code",
      "source": [
        "##~~~~~~~~~~~~~~~~~~~~~~~~~~~~~~~~~~~~~~~~~~~~~~~~~~~~~~~~~~~~~~~~~~~~~~~~~Chapter 5"
      ],
      "metadata": {
        "id": "e9eY2mftR41q"
      },
      "execution_count": null,
      "outputs": []
    },
    {
      "cell_type": "code",
      "source": [
        "#Exercise 1\n",
        "a=2\n",
        "b=2.0\n",
        "c==a\n",
        "\n",
        "#the = gives value to the variable, while == compares if variable c and a have equal values"
      ],
      "metadata": {
        "id": "SlMHAfSYR8-X"
      },
      "execution_count": null,
      "outputs": []
    },
    {
      "cell_type": "code",
      "source": [
        "##~~~~~~~~~~~~~~~~~~~~~~~~~~~~~~~~~~~~~~~~~~~~~~~~~~~~~~~~~~~~~~~~~~~~~~~~~Challenge"
      ],
      "metadata": {
        "id": "XipCb450SUwe"
      },
      "execution_count": null,
      "outputs": []
    },
    {
      "cell_type": "code",
      "source": [
        "#Challenge 1\n",
        "total = 0\n",
        "count = 0\n",
        "\n",
        "while True:\n",
        "    num = input(\"Enter a number: \")\n",
        "\n",
        "    if num == 'done':\n",
        "        break\n",
        "\n",
        "    try:\n",
        "        number = float(num)\n",
        "        total += number\n",
        "        count += 1\n",
        "    except ValueError:\n",
        "        print(\"Invalid input\")\n",
        "\n",
        "if count > 0:\n",
        "    average = total / count\n",
        "    print(\"Total:\", total)\n",
        "    print(\"Count:\", count)\n",
        "    print(\"Average:\", average)\n",
        "else:\n",
        "    print(\"No numbers entered.\")\n"
      ],
      "metadata": {
        "id": "4Qe0cN3kT98X",
        "colab": {
          "base_uri": "https://localhost:8080/"
        },
        "outputId": "9b63fc71-26ca-4cb0-e383-76258414dc50"
      },
      "execution_count": null,
      "outputs": [
        {
          "output_type": "stream",
          "name": "stdout",
          "text": [
            "Enter a number: 4\n",
            "Enter a number: 5\n",
            "Enter a number: 7\n",
            "Enter a number: done\n",
            "Total: 16.0\n",
            "Count: 3\n",
            "Average: 5.333333333333333\n"
          ]
        }
      ]
    },
    {
      "cell_type": "markdown",
      "source": [],
      "metadata": {
        "id": "BrloSU_uZIdI"
      }
    },
    {
      "cell_type": "code",
      "source": [
        "#Challenge 2\n",
        "minimum = None\n",
        "maximum = None\n",
        "\n",
        "while True:\n",
        "    num = input(\"Enter a number: \")\n",
        "\n",
        "    if num == 'done':\n",
        "        break\n",
        "\n",
        "    try:\n",
        "        number = float(num)\n",
        "        if minimum is None or number < minimum:\n",
        "            minimum = number\n",
        "        if maximum is None or number > maximum:\n",
        "            maximum = number\n",
        "    except ValueError:\n",
        "        print(\"Invalid input\")\n",
        "\n",
        "if minimum is not None and maximum is not None:\n",
        "    print(\"Minimum:\", minimum)\n",
        "    print(\"Maximum:\", maximum)\n",
        "else:\n",
        "    print(\"No valid numbers entered.\")\n"
      ],
      "metadata": {
        "colab": {
          "base_uri": "https://localhost:8080/"
        },
        "id": "-YttMJZSaMYz",
        "outputId": "3749c007-aab9-42a7-d451-8dcd6e4ec4a5"
      },
      "execution_count": null,
      "outputs": [
        {
          "output_type": "stream",
          "name": "stdout",
          "text": [
            "Enter a number: 9\n",
            "Enter a number: 100\n",
            "Enter a number: 2\n",
            "Enter a number: 0\n",
            "Enter a number: bad data\n",
            "Invalid input\n",
            "Enter a number: done\n",
            "Minimum: 0.0\n",
            "Maximum: 100.0\n"
          ]
        }
      ]
    }
  ]
}