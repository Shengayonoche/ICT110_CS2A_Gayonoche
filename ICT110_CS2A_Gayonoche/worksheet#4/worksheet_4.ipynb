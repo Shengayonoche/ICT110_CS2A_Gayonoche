{
  "nbformat": 4,
  "nbformat_minor": 0,
  "metadata": {
    "colab": {
      "provenance": [],
      "toc_visible": true
    },
    "kernelspec": {
      "name": "python3",
      "display_name": "Python 3"
    },
    "language_info": {
      "name": "python"
    }
  },
  "cells": [
    {
      "cell_type": "code",
      "execution_count": null,
      "metadata": {
        "id": "UGnzeVlnFDqt"
      },
      "outputs": [],
      "source": [
        "#Workbook 4"
      ]
    },
    {
      "cell_type": "code",
      "source": [
        "   #Exercise 1\n",
        "   #These are the constants in math module\n",
        "    e = 2.718281828459045     (euler's)\n",
        "    inf = inf\n",
        "    nan = nan\n",
        "    pi = 3.141592653589793\n",
        "    tau = 6.283185307179586\n",
        "\n",
        "\n",
        "    # math.pow()\n",
        "    pow(x, y, /)\n",
        "    Return x**y (x to the power of y)\n",
        "\n",
        "    # math.exp()\n",
        "    math.exp(x, /)\n",
        "    Return e raised to the power of x\n",
        "\n",
        "    #Natural logarithm\n",
        "        log(...)\n",
        "        log(x, [base=math.e])\n",
        "        Return the logarithm of x to the given base.\n",
        "        If the base not specified, returns the natural logarithm (base e) of x.\n",
        "\n",
        "\n",
        "        log1p(x, /)\n",
        "        Return the natural logarithm of 1+x (base e).\n",
        "    #base 10 logarithm\n",
        "    log10(x, /)\n",
        "    Return the base 10 logarithm of x."
      ],
      "metadata": {
        "id": "fLLCpa9BNKAG"
      },
      "execution_count": null,
      "outputs": []
    },
    {
      "cell_type": "code",
      "source": [
        "#Exercise 2\n",
        "Exercise 2\n",
        "Create your own module.\n",
        "Place variables and functions inside it.\n",
        "Import your module and use the variabls and functions you've created in the module.\n",
        "Try to add docstrings for the module and the functions"
      ],
      "metadata": {
        "id": "243foS3NPMM0"
      },
      "execution_count": null,
      "outputs": []
    },
    {
      "cell_type": "code",
      "source": [],
      "metadata": {
        "id": "oF5QqiX256gn"
      },
      "execution_count": null,
      "outputs": []
    }
  ]
}