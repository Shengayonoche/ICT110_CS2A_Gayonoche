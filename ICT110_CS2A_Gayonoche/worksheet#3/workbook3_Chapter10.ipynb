{
  "nbformat": 4,
  "nbformat_minor": 0,
  "metadata": {
    "colab": {
      "provenance": []
    },
    "kernelspec": {
      "name": "python3",
      "display_name": "Python 3"
    },
    "language_info": {
      "name": "python"
    }
  },
  "cells": [
    {
      "cell_type": "code",
      "execution_count": null,
      "metadata": {
        "id": "QrmzbmJFxxVN"
      },
      "outputs": [],
      "source": [
        "#Chapter 10"
      ]
    },
    {
      "cell_type": "code",
      "source": [
        "#Exercise 1\n",
        "numbers = (1, 1, 2, 3, 5)\n",
        "result = sum(numbers)\n",
        "print(result)\n"
      ],
      "metadata": {
        "colab": {
          "base_uri": "https://localhost:8080/"
        },
        "id": "0dR-DebLx_Ll",
        "outputId": "fa94252e-f67d-4dee-e0ed-73bb66d0454b"
      },
      "execution_count": 1,
      "outputs": [
        {
          "output_type": "stream",
          "name": "stdout",
          "text": [
            "12\n"
          ]
        }
      ]
    },
    {
      "cell_type": "code",
      "source": [
        "#Exercise 2\n",
        "\n",
        "phinfo = ('Philippines', 'Manila', 103.3)\n",
        "\n",
        "# Unpack the tuple into variables\n",
        "country, capital, population = phinfo\n",
        "\n",
        "# Display the variables\n",
        "print(f\"Country: {country}\")\n",
        "print(f\"Capital: {capital}\")\n",
        "print(f\"Population in Millions (2016): {population}\")\n"
      ],
      "metadata": {
        "colab": {
          "base_uri": "https://localhost:8080/"
        },
        "id": "5a5m2_bf1mIt",
        "outputId": "4d06fb7b-548d-4fbf-e4e5-50ce126cd382"
      },
      "execution_count": null,
      "outputs": [
        {
          "output_type": "stream",
          "name": "stdout",
          "text": [
            "Country: Philippines\n",
            "Capital: Manila\n",
            "Population in Millions (2016): 103.3\n"
          ]
        }
      ]
    }
  ]
}