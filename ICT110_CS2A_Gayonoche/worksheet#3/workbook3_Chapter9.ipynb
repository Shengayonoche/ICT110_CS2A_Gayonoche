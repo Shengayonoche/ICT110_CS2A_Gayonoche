{
  "nbformat": 4,
  "nbformat_minor": 0,
  "metadata": {
    "colab": {
      "provenance": []
    },
    "kernelspec": {
      "name": "python3",
      "display_name": "Python 3"
    },
    "language_info": {
      "name": "python"
    }
  },
  "cells": [
    {
      "cell_type": "code",
      "execution_count": null,
      "metadata": {
        "id": "TdpZVPJ4xWL-"
      },
      "outputs": [],
      "source": [
        "#Chapter 9"
      ]
    },
    {
      "cell_type": "code",
      "source": [
        "#Exercise 1\n",
        "gdpgrowth = {\n",
        "    \"China\": 6.5,\n",
        "    \"Japan\": 0.7,\n",
        "    \"Philippines\": 6.7,\n",
        "    \"United States\": 2.3\n",
        "}\n",
        "\n",
        "# To display the dictionary\n",
        "for country, growth_rate in gdpgrowth.items():\n",
        "    print(f\"{country}: {growth_rate}\")\n"
      ],
      "metadata": {
        "colab": {
          "base_uri": "https://localhost:8080/"
        },
        "id": "qVhDveoSxiL1",
        "outputId": "bdffe9fb-ddc4-4ccc-c91e-d651d149b298"
      },
      "execution_count": 3,
      "outputs": [
        {
          "output_type": "stream",
          "name": "stdout",
          "text": [
            "China: 6.5\n",
            "Japan: 0.7\n",
            "Philippines: 6.7\n",
            "United States: 2.3\n"
          ]
        }
      ]
    },
    {
      "cell_type": "code",
      "source": [
        "#Exercise 2\n",
        "China: 6.5\n",
        "Japan: 0.7\n",
        "Philippines: 6.7\n",
        "United States: 2.3"
      ],
      "metadata": {
        "id": "TGpQsNWJyaqk"
      },
      "execution_count": null,
      "outputs": []
    },
    {
      "cell_type": "code",
      "source": [
        "#Exercise 3\n",
        "line_of_text = input(\"Enter a line of text: \")\n",
        "word_list = line_of_text.split()\n",
        "word_count = {}\n",
        "\n",
        "for word in word_list:\n",
        "    if word in word_count:\n",
        "        word_count[word] += 1\n",
        "    else:\n",
        "        word_count[word] = 1\n",
        "\n",
        "for word, count in word_count.items():\n",
        "    print(f\"{word}: {count}\")\n"
      ],
      "metadata": {
        "colab": {
          "base_uri": "https://localhost:8080/"
        },
        "id": "SIQxDPe1xsIR",
        "outputId": "425b5769-4531-42e6-d5a7-bb3cfd44a82f"
      },
      "execution_count": 2,
      "outputs": [
        {
          "output_type": "stream",
          "name": "stdout",
          "text": [
            "Enter a line of text: shenah shenah shenah\n",
            "shenah: 3\n"
          ]
        }
      ]
    }
  ]
}